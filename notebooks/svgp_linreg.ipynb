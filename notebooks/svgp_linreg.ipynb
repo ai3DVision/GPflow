{
 "cells": [
  {
   "cell_type": "code",
   "execution_count": null,
   "metadata": {
    "collapsed": true
   },
   "outputs": [],
   "source": [
    "import numpy as np\n",
    "from matplotlib import pyplot as plt\n",
    "%matplotlib inline\n"
   ]
  },
  {
   "cell_type": "code",
   "execution_count": null,
   "metadata": {
    "collapsed": false
   },
   "outputs": [],
   "source": [
    "# build a very simple data set:\n",
    "N = 10\n",
    "M = 1\n",
    "X = np.random.rand(N,1)-.5\n",
    "Z = np.linspace(0,1,M)\n",
    "Z = np.expand_dims(Z,axis=1)\n",
    "Z = np.random.rand(M,1)\n",
    "\n",
    "a = 1\n",
    "s_n = 0.1\n",
    "F = a*X\n",
    "Y = F + np.random.randn(N,1)*s_n\n",
    "plt.figure()\n",
    "plt.plot(X, Y, 'kx', mew=2)"
   ]
  },
  {
   "cell_type": "code",
   "execution_count": null,
   "metadata": {
    "collapsed": false
   },
   "outputs": [],
   "source": [
    "#build the GPR object\n",
    "from GPflow.svgp import SVGP \n",
    "from GPflow.likelihoods import Gaussian as Glik\n",
    "from GPflow.kernels import Linear as Lin\n",
    "\n",
    "k = Lin(1)\n",
    "likelihood = Glik()\n",
    "\n",
    "m = SVGP(X,Y,k,likelihood,Z)\n",
    "m.likelihood.variance = s_n"
   ]
  },
  {
   "cell_type": "code",
   "execution_count": null,
   "metadata": {
    "collapsed": false
   },
   "outputs": [],
   "source": [
    "m.optimize()\n",
    "Xp = np.linspace(-1,1,100)\n",
    "Xp = np.expand_dims(Xp,axis=1)\n",
    "Yp,Vp = m.predict_f(Xp)\n",
    "Sp = np.sqrt(Vp)"
   ]
  },
  {
   "cell_type": "code",
   "execution_count": null,
   "metadata": {
    "collapsed": false
   },
   "outputs": [],
   "source": [
    "plt.plot(X,Y,'rx')\n",
    "plt.plot(Xp,Yp)\n",
    "print Yp.shape,Sp.shape, (Yp+Sp).shape\n",
    "plt.fill_between(Xp.flat,y1=(Yp-Sp).flat,y2=(Yp+Sp).flat,alpha=0.3)"
   ]
  },
  {
   "cell_type": "code",
   "execution_count": null,
   "metadata": {
    "collapsed": false
   },
   "outputs": [],
   "source": [
    "print Z,m.Z"
   ]
  },
  {
   "cell_type": "code",
   "execution_count": null,
   "metadata": {
    "collapsed": true
   },
   "outputs": [],
   "source": []
  }
 ],
 "metadata": {
  "kernelspec": {
   "display_name": "Python 2",
   "language": "python",
   "name": "python2"
  },
  "language_info": {
   "codemirror_mode": {
    "name": "ipython",
    "version": 2
   },
   "file_extension": ".py",
   "mimetype": "text/x-python",
   "name": "python",
   "nbconvert_exporter": "python",
   "pygments_lexer": "ipython2",
   "version": "2.7.9"
  }
 },
 "nbformat": 4,
 "nbformat_minor": 0
}
