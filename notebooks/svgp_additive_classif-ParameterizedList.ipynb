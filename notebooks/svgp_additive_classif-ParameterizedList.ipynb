{
 "cells": [
  {
   "cell_type": "code",
   "execution_count": null,
   "metadata": {
    "collapsed": false
   },
   "outputs": [],
   "source": [
    "import sys\n",
    "sys.path.append('/home/vincent/git/GPflow')\n",
    "from matplotlib import pyplot as plt\n",
    "%matplotlib inline\n",
    "import GPflow.kernels\n",
    "from GPflow.likelihoods import Bernoulli, Gaussian\n",
    "from GPflow.svgp import SVGP\n",
    "from GPflow.svgp_additive import SVGP_additive2 \n",
    "import numpy as np   \n",
    "from scipy.special import erf"
   ]
  },
  {
   "cell_type": "code",
   "execution_count": null,
   "metadata": {
    "collapsed": false
   },
   "outputs": [],
   "source": [
    "np.random.seed(0)\n",
    "\n",
    "\n",
    "# build a very simple data set:\n",
    "N = 3000\n",
    "D = 2\n",
    "M = [1,30]\n",
    "X = np.random.rand(N, D)-.5\n",
    "\n",
    "#Z needs to be list of (M,1) array\n",
    "z1 = np.array([[1]])\n",
    "z2 = np.random.rand(M[1], 1)-.5\n",
    "Z = [z1,z2]\n",
    "\n",
    "fl = lambda x : x\n",
    "fnl = lambda x : 4*x*np.exp(-np.abs(x)*4)\n",
    "\n",
    "\n",
    "lik = 'Gaussian'\n",
    "lik = 'Bernoulli'\n",
    "\n",
    "\n",
    "s_n = 0.1\n",
    "F = np.zeros((N,1))\n",
    "Fs = np.zeros((N,D))\n",
    "\n",
    "Fs[:,0] = fl(X[:,0])\n",
    "Fs[:,1] = fnl(X[:,1])\n",
    "\n",
    "F = np.sum(Fs,axis=1).reshape(N,1)\n",
    "\n",
    "if lik == 'Gaussian':\n",
    "    Y = F + np.random.randn(N,1) * s_n\n",
    "elif lik == 'Bernoulli':\n",
    "    phi =lambda x: 0.5*(1+erf(x/np.sqrt(2)))\n",
    "    B = phi(F)\n",
    "    Y = (np.random.rand(N,1)<B).astype(int)\n",
    "\n",
    "for d in range(D):\n",
    "    plt.plot(X[:,d],Fs[:,d],'x')\n",
    "plt.show()\n",
    "\n",
    "Xg,Yg = np.meshgrid(X[:,0],X[:,1])\n",
    "plt.scatter(X[:,0],X[:,1],c=B)\n",
    "plt.show()\n",
    "\n",
    "plt.hist(F)\n",
    "plt.show()\n",
    "\n",
    "\n",
    "\n",
    "plt.hist(Y)\n",
    "plt.show()\n"
   ]
  },
  {
   "cell_type": "code",
   "execution_count": null,
   "metadata": {
    "collapsed": false
   },
   "outputs": [],
   "source": [
    "\n",
    "if lik == 'Gaussian':\n",
    "    likelihood = Gaussian()\n",
    "    likelihood.variance = 0.01\n",
    "elif lik == 'Bernoulli':\n",
    "    likelihood = Bernoulli()\n",
    "\n",
    "k1 = GPflow.kernels.Linear(1)\n",
    "k2 = GPflow.kernels.RBF(1)\n",
    "ks = [k1,k2]\n",
    "\n",
    "#Z = [Z[:,d].reshape(M, 1).copy() for d in range(D)]\n",
    "m = SVGP_additive2(X, Y, ks, likelihood, Z)\n",
    "\n",
    "m.optimize()\n",
    "    \n",
    "Yp, Vp = m.predict_f(X)\n",
    "Sp = np.sqrt(Vp)\n",
    "\n",
    "rmse = np.sqrt(np.mean((Yp - Y) ** 2))\n",
    "print \"RMSE: %.3f\" % rmse\n"
   ]
  },
  {
   "cell_type": "code",
   "execution_count": null,
   "metadata": {
    "collapsed": false
   },
   "outputs": [],
   "source": [
    "col ='rg'\n",
    "for d in range(D):\n",
    "    m.set_prediction_subset_ds([d])\n",
    "    Yd = m.predict_f(X)[0]\n",
    "    print Yd.shape\n",
    "    plt.plot(X[:,d],Fs[:,d],'.',c=col[d])\n",
    "    plt.plot(X[:,d],Yd,'x',c=col[d])\n",
    "plt.show()"
   ]
  },
  {
   "cell_type": "code",
   "execution_count": null,
   "metadata": {
    "collapsed": true
   },
   "outputs": [],
   "source": []
  }
 ],
 "metadata": {
  "kernelspec": {
   "display_name": "Python 2",
   "language": "python",
   "name": "python2"
  },
  "language_info": {
   "codemirror_mode": {
    "name": "ipython",
    "version": 2
   },
   "file_extension": ".py",
   "mimetype": "text/x-python",
   "name": "python",
   "nbconvert_exporter": "python",
   "pygments_lexer": "ipython2",
   "version": "2.7.9"
  }
 },
 "nbformat": 4,
 "nbformat_minor": 0
}
